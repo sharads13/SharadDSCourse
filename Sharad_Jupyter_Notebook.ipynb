{
  "metadata": {
    "kernelspec": {
      "name": "python",
      "display_name": "Pyolite",
      "language": "python"
    },
    "language_info": {
      "codemirror_mode": {
        "name": "python",
        "version": 3
      },
      "file_extension": ".py",
      "mimetype": "text/x-python",
      "name": "python",
      "nbconvert_exporter": "python",
      "pygments_lexer": "ipython3",
      "version": "3.8"
    }
  },
  "nbformat_minor": 4,
  "nbformat": 4,
  "cells": [
    {
      "cell_type": "markdown",
      "source": "<center>\n    <img src=\"https://cf-courses-data.s3.us.cloud-object-storage.appdomain.cloud/IBMDeveloperSkillsNetwork-DS0105EN-SkillsNetwork/labs/Module2/images/SN_web_lightmode.png\" width=\"300\" alt=\"cognitiveclass.ai logo\"  />\n</center>\n",
      "metadata": {}
    },
    {
      "cell_type": "markdown",
      "source": "#### Add your code below following the instructions given in the course\n",
      "metadata": {}
    },
    {
      "cell_type": "markdown",
      "source": "<h1> My Jupyter Notebook on Skills Network <h1>",
      "metadata": {}
    },
    {
      "cell_type": "markdown",
      "source": "<b>Sharad Swaminathan</b><br>\nSolutions Architect",
      "metadata": {}
    },
    {
      "cell_type": "markdown",
      "source": "<i> I am interested in Data Science because I would like to analyze data, create ML Models to provide solutions for my clients across financial and healthcare verticals. </i>",
      "metadata": {}
    },
    {
      "cell_type": "markdown",
      "source": "<h3> Code in the next cell will add two numbers and display the sum below. <h3>",
      "metadata": {}
    },
    {
      "cell_type": "code",
      "source": "1 + 1",
      "metadata": {
        "trusted": true
      },
      "execution_count": 3,
      "outputs": [
        {
          "execution_count": 3,
          "output_type": "execute_result",
          "data": {
            "text/plain": "2"
          },
          "metadata": {}
        }
      ]
    },
    {
      "cell_type": "markdown",
      "source": "1. Football\n2. Tennis\n3. Basketball\n\n<a href=\"https://dataplatform.cloud.ibm.com/gallery\">IBM Cloud Gallery</a>\n<hr>",
      "metadata": {}
    },
    {
      "cell_type": "code",
      "source": "",
      "metadata": {},
      "execution_count": null,
      "outputs": []
    }
  ]
}